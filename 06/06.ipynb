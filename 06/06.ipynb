{
 "cells": [
  {
   "cell_type": "code",
   "execution_count": 46,
   "metadata": {},
   "outputs": [],
   "source": [
    "import requests\n",
    "import re"
   ]
  },
  {
   "cell_type": "code",
   "execution_count": 47,
   "metadata": {},
   "outputs": [],
   "source": [
    "session = 'xxxx'"
   ]
  },
  {
   "cell_type": "code",
   "execution_count": 48,
   "metadata": {},
   "outputs": [],
   "source": [
    "resp = requests.request(method=\"GET\", url='https://adventofcode.com/2020/day/6/input', headers={'Cookie': session})"
   ]
  },
  {
   "cell_type": "code",
   "execution_count": 49,
   "metadata": {},
   "outputs": [],
   "source": [
    "s = resp.text\n",
    "arr = [line for line in s.split('\\n\\n') if line != '']"
   ]
  },
  {
   "cell_type": "code",
   "execution_count": 50,
   "metadata": {},
   "outputs": [
    {
     "name": "stdout",
     "output_type": "stream",
     "text": [
      "7128\n"
     ]
    }
   ],
   "source": [
    "# part one\n",
    "total_sum = 0\n",
    "for collection in arr:\n",
    "    chars = []\n",
    "    for c in collection:\n",
    "        if c != '\\n' and c not in chars:\n",
    "            chars.append(c)\n",
    "    total_sum += len(chars)\n",
    "print(total_sum)"
   ]
  },
  {
   "cell_type": "code",
   "execution_count": 51,
   "metadata": {},
   "outputs": [
    {
     "name": "stdout",
     "output_type": "stream",
     "text": [
      "3640\n"
     ]
    }
   ],
   "source": [
    "# part two\n",
    "total_sum = 0\n",
    "for group in arr:\n",
    "    # if only one person\n",
    "    if len(group) == 1:\n",
    "        chars = []\n",
    "        for c in group:\n",
    "            if c != '\\n' and c not in chars:\n",
    "                chars.append(c)\n",
    "        total_sum += len(chars)\n",
    "    else:\n",
    "        chars = []\n",
    "        persons = [line for line in group.split('\\n') if line != '']\n",
    "        for char in persons[0]:\n",
    "            count = 0\n",
    "            for person in persons[1:]:\n",
    "                for c in person:\n",
    "                    if c == char:\n",
    "                        count += 1\n",
    "                        break\n",
    "            if count == len(persons) - 1:\n",
    "                chars.append(char)\n",
    "        total_sum += len(chars)\n",
    "print(total_sum)"
   ]
  },
  {
   "cell_type": "code",
   "execution_count": null,
   "metadata": {},
   "outputs": [],
   "source": []
  }
 ],
 "metadata": {
  "kernelspec": {
   "display_name": "Python 3",
   "language": "python",
   "name": "python3"
  },
  "language_info": {
   "codemirror_mode": {
    "name": "ipython",
    "version": 3
   },
   "file_extension": ".py",
   "mimetype": "text/x-python",
   "name": "python",
   "nbconvert_exporter": "python",
   "pygments_lexer": "ipython3",
   "version": "3.6.9"
  }
 },
 "nbformat": 4,
 "nbformat_minor": 4
}
