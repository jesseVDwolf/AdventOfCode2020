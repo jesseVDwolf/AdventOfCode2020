{
 "cells": [
  {
   "cell_type": "code",
   "execution_count": 1,
   "metadata": {},
   "outputs": [],
   "source": [
    "import requests"
   ]
  },
  {
   "cell_type": "code",
   "execution_count": 7,
   "metadata": {},
   "outputs": [],
   "source": [
    "session = 'session=xxxx'"
   ]
  },
  {
   "cell_type": "code",
   "execution_count": 8,
   "metadata": {},
   "outputs": [],
   "source": [
    "resp = requests.request(method=\"GET\", url=\"https://adventofcode.com/2020/day/1/input\", headers={'Cookie': session})"
   ]
  },
  {
   "cell_type": "code",
   "execution_count": 14,
   "metadata": {},
   "outputs": [],
   "source": [
    "s = resp.text\n",
    "arr = s.split('\\n')"
   ]
  },
  {
   "cell_type": "code",
   "execution_count": 28,
   "metadata": {},
   "outputs": [
    {
     "name": "stdout",
     "output_type": "stream",
     "text": [
      "x: 736 y: 169 z: 1115 added: 2020 multiplied: 138688160\n",
      "x: 736 y: 1115 z: 169 added: 2020 multiplied: 138688160\n",
      "x: 169 y: 736 z: 1115 added: 2020 multiplied: 138688160\n",
      "x: 169 y: 1115 z: 736 added: 2020 multiplied: 138688160\n",
      "x: 1115 y: 736 z: 169 added: 2020 multiplied: 138688160\n",
      "x: 1115 y: 169 z: 736 added: 2020 multiplied: 138688160\n"
     ]
    }
   ],
   "source": [
    "for x in arr:\n",
    "    for y in arr:\n",
    "        for z in arr:\n",
    "            if x != '' and y != '' and z != '':\n",
    "                if (int(x) + int(y) + int(z)) == 2020:\n",
    "                    print(f'x: {x} y: {y} z: {z} added: {int(x) + int(y) + int(z)} multiplied: {int(x) * int(y) * int(z)}')"
   ]
  }
 ],
 "metadata": {
  "kernelspec": {
   "display_name": "Python 3",
   "language": "python",
   "name": "python3"
  },
  "language_info": {
   "codemirror_mode": {
    "name": "ipython",
    "version": 3
   },
   "file_extension": ".py",
   "mimetype": "text/x-python",
   "name": "python",
   "nbconvert_exporter": "python",
   "pygments_lexer": "ipython3",
   "version": "3.6.9"
  }
 },
 "nbformat": 4,
 "nbformat_minor": 4
}
