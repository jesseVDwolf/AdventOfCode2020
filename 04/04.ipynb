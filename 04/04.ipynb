{
 "cells": [
  {
   "cell_type": "code",
   "execution_count": 155,
   "metadata": {},
   "outputs": [],
   "source": [
    "import requests\n",
    "import re"
   ]
  },
  {
   "cell_type": "code",
   "execution_count": 156,
   "metadata": {},
   "outputs": [],
   "source": [
    "session = 'session=53616c7465645f5ff5d9f07d39a225d84ed191f55da11bcce8905dd8198c72323dc6cac0c19f1084d773f138e225c660'"
   ]
  },
  {
   "cell_type": "code",
   "execution_count": 157,
   "metadata": {},
   "outputs": [],
   "source": [
    "resp = requests.request(method=\"GET\", url='https://adventofcode.com/2020/day/4/input', headers={'Cookie': session})"
   ]
  },
  {
   "cell_type": "code",
   "execution_count": 158,
   "metadata": {},
   "outputs": [],
   "source": [
    "s = resp.text\n",
    "arr = [line for line in s.split('\\n\\n') if line != '']"
   ]
  },
  {
   "cell_type": "code",
   "execution_count": 159,
   "metadata": {},
   "outputs": [],
   "source": [
    "required_fields = (\"byr\", \"iyr\", \"eyr\", \"hgt\", \"hcl\", \"ecl\", \"pid\")\n",
    "valid_eye_colors = (\"amb\", \"blu\", \"brn\", \"gry\", \"grn\", \"hzl\", \"oth\")"
   ]
  },
  {
   "cell_type": "code",
   "execution_count": 160,
   "metadata": {},
   "outputs": [],
   "source": [
    "# part one\n",
    "valid_passports = 0\n",
    "for passport_str in arr:\n",
    "    required_fields_found = 0\n",
    "    passport = re.split(r'\\n| ', passport_str)\n",
    "    for field in required_fields:\n",
    "        if len([pass_field for pass_field in passport if pass_field.find(field + ':') != -1]) == 1:\n",
    "            required_fields_found += 1\n",
    "    if required_fields_found == len(required_fields):\n",
    "        valid_passports += 1"
   ]
  },
  {
   "cell_type": "code",
   "execution_count": 161,
   "metadata": {},
   "outputs": [
    {
     "data": {
      "text/plain": [
       "242"
      ]
     },
     "execution_count": 161,
     "metadata": {},
     "output_type": "execute_result"
    }
   ],
   "source": [
    "valid_passports"
   ]
  },
  {
   "cell_type": "code",
   "execution_count": 162,
   "metadata": {},
   "outputs": [],
   "source": [
    "# part two\n",
    "def valid_byr(year: str) -> bool:\n",
    "    try:\n",
    "        num = int(year)\n",
    "    except ValueError:\n",
    "        return False\n",
    "    return (num >= 1920 and num <= 2002)\n",
    "\n",
    "def valid_iyr(year: str) -> bool:\n",
    "    try:\n",
    "        num = int(year)\n",
    "    except ValueError:\n",
    "        return False\n",
    "    return (num >= 2010 and num <= 2020)\n",
    "\n",
    "def valid_eyr(year: str) -> bool:\n",
    "    try:\n",
    "        num = int(year)\n",
    "    except ValueError:\n",
    "        return False\n",
    "    return (num >= 2020 and num <= 2030)\n",
    "\n",
    "def valid_hgt(s: str) -> bool:\n",
    "    if s.find(\"cm\") != -1:\n",
    "        hgt = int(s[:s.find('c')]) if s[0] != 'c' else 0\n",
    "        return (hgt >= 150 and hgt <= 193)\n",
    "    if s.find(\"in\") != -1:\n",
    "        hgt = int(s[:s.find('i')]) if s[0] != 'i' else 0\n",
    "        return (hgt >= 59 and hgt <= 76)\n",
    "    return False\n",
    "\n",
    "def valid_hcl(s: str) -> bool:\n",
    "    if s.find('#') == 0:\n",
    "        if re.match(r'^[0-9a-f]*$', s[1:]):\n",
    "            return True \n",
    "    return False\n",
    "    \n",
    "def valid_ecl(s: str) -> bool:\n",
    "    return s in valid_eye_colors\n",
    "\n",
    "def valid_pid(s: str) -> bool:\n",
    "    idx = 0\n",
    "    while s[idx] == '0':\n",
    "        idx += 1\n",
    "    return True if re.match(\"^[0-9]{%d,%d}$\" % (9 - idx, 9 - idx), s[idx:]) else False"
   ]
  },
  {
   "cell_type": "code",
   "execution_count": 163,
   "metadata": {},
   "outputs": [],
   "source": [
    "def validate_passports(s: str) -> int:\n",
    "    arr = [line for line in s.split('\\n\\n') if line != '']\n",
    "    valid_passports = 0\n",
    "    for passport_str in arr:\n",
    "        required_fields_found = 0\n",
    "        passport = [line for line in re.split(r'\\n| ', passport_str) if line != '']\n",
    "        for field in required_fields:\n",
    "            if len([pass_field for pass_field in passport if pass_field.find(field + ':') != -1]) == 1:\n",
    "                required_fields_found += 1\n",
    "        if required_fields_found == len(required_fields):\n",
    "            valid_fields_found = 0\n",
    "            for field in passport:\n",
    "                key = field[:field.find(':')]\n",
    "                val = field[field.find(':') + 1:]\n",
    "                if key != 'cid':\n",
    "                    if eval(f'valid_{key}')(val):\n",
    "                        valid_fields_found += 1\n",
    "            if valid_fields_found == len(required_fields):\n",
    "                valid_passports += 1\n",
    "    return valid_passports"
   ]
  },
  {
   "cell_type": "code",
   "execution_count": 164,
   "metadata": {},
   "outputs": [
    {
     "data": {
      "text/plain": [
       "0"
      ]
     },
     "execution_count": 164,
     "metadata": {},
     "output_type": "execute_result"
    }
   ],
   "source": [
    "invalid_s = \"\"\"\n",
    "eyr:1972 cid:100\n",
    "hcl:#18171d ecl:amb hgt:170 pid:186cm iyr:2018 byr:1926\n",
    "\n",
    "iyr:2019\n",
    "hcl:#602927 eyr:1967 hgt:170cm\n",
    "ecl:grn pid:012533040 byr:1946\n",
    "\n",
    "hcl:dab227 iyr:2012\n",
    "ecl:brn hgt:182cm pid:021572410 eyr:2020 byr:1992 cid:277\n",
    "\n",
    "hgt:59cm ecl:zzz\n",
    "eyr:2038 hcl:74454a iyr:2023\n",
    "pid:3556412378 byr:2007\"\"\"\n",
    "validate_passports(invalid_s)"
   ]
  },
  {
   "cell_type": "code",
   "execution_count": 165,
   "metadata": {},
   "outputs": [
    {
     "data": {
      "text/plain": [
       "4"
      ]
     },
     "execution_count": 165,
     "metadata": {},
     "output_type": "execute_result"
    }
   ],
   "source": [
    "valid_s = \"\"\"\n",
    "pid:087499704 hgt:74in ecl:grn iyr:2012 eyr:2030 byr:1980\n",
    "hcl:#623a2f\n",
    "\n",
    "eyr:2029 ecl:blu cid:129 byr:1989\n",
    "iyr:2014 pid:896056539 hcl:#a97842 hgt:165cm\n",
    "\n",
    "hcl:#888785\n",
    "hgt:164cm byr:2001 iyr:2015 cid:88\n",
    "pid:545766238 ecl:hzl\n",
    "eyr:2022\n",
    "\n",
    "iyr:2010 hgt:158cm hcl:#b6652a ecl:blu byr:1944 eyr:2021 pid:093154719\"\"\"\n",
    "validate_passports(valid_s)"
   ]
  },
  {
   "cell_type": "code",
   "execution_count": 166,
   "metadata": {},
   "outputs": [
    {
     "data": {
      "text/plain": [
       "186"
      ]
     },
     "execution_count": 166,
     "metadata": {},
     "output_type": "execute_result"
    }
   ],
   "source": [
    "validate_passports(s)"
   ]
  }
 ],
 "metadata": {
  "kernelspec": {
   "display_name": "Python 3",
   "language": "python",
   "name": "python3"
  },
  "language_info": {
   "codemirror_mode": {
    "name": "ipython",
    "version": 3
   },
   "file_extension": ".py",
   "mimetype": "text/x-python",
   "name": "python",
   "nbconvert_exporter": "python",
   "pygments_lexer": "ipython3",
   "version": "3.6.9"
  }
 },
 "nbformat": 4,
 "nbformat_minor": 4
}
