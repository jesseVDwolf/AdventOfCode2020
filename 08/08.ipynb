{
 "cells": [
  {
   "cell_type": "code",
   "execution_count": 60,
   "metadata": {},
   "outputs": [],
   "source": [
    "import requests\n",
    "import copy"
   ]
  },
  {
   "cell_type": "code",
   "execution_count": 2,
   "metadata": {},
   "outputs": [],
   "source": [
    "session = 'session=53616c7465645f5ff5d9f07d39a225d84ed191f55da11bcce8905dd8198c72323dc6cac0c19f1084d773f138e225c660'"
   ]
  },
  {
   "cell_type": "code",
   "execution_count": 3,
   "metadata": {},
   "outputs": [],
   "source": [
    "resp = requests.request(method=\"GET\", url='https://adventofcode.com/2020/day/8/input', headers={'Cookie': session})"
   ]
  },
  {
   "cell_type": "code",
   "execution_count": 67,
   "metadata": {},
   "outputs": [],
   "source": [
    "s = resp.text\n",
    "arr = [line for line in s.split('\\n') if line != '']"
   ]
  },
  {
   "cell_type": "code",
   "execution_count": 68,
   "metadata": {},
   "outputs": [],
   "source": [
    "cmds = []\n",
    "for s in arr:\n",
    "    ins = s[:s.find(' ')]\n",
    "    arg = int(s[s.find(' ') +1:])\n",
    "    cmds.append({'ins': ins, 'arg': arg, 'run': False})"
   ]
  },
  {
   "cell_type": "code",
   "execution_count": 46,
   "metadata": {},
   "outputs": [],
   "source": [
    "\"\"\" PART 1\n",
    "Keep track of each command being run and\n",
    "mark it when executed. Make sure to edit\n",
    "the original array.\n",
    "\"\"\"\n",
    "idx = 0\n",
    "acc_total = 0\n",
    "while idx < len(cmds):\n",
    "    cmd = cmds[idx]\n",
    "    if cmd['run'] == True:\n",
    "        break\n",
    "    cmds[idx]['run'] = True\n",
    "    if cmd['ins'] == 'acc':\n",
    "        acc_total += cmd['arg']\n",
    "    if cmd['ins'] == 'jmp':\n",
    "        idx += cmd['arg']\n",
    "    if cmd['ins'] != 'jmp':\n",
    "        idx += 1\n",
    "    "
   ]
  },
  {
   "cell_type": "code",
   "execution_count": 69,
   "metadata": {},
   "outputs": [],
   "source": [
    "\"\"\" PART 2\n",
    "Replace each jmp with a nop and\n",
    "check if you don't re-execute a\n",
    "command. Use copy.deepcopy to\n",
    "reuse {cmds}\n",
    "\"\"\"\n",
    "jmps = []\n",
    "for idx, cmd in enumerate(cmds):\n",
    "    if cmd['ins'] == 'jmp':\n",
    "        jmps.append(idx)"
   ]
  },
  {
   "cell_type": "code",
   "execution_count": 71,
   "metadata": {},
   "outputs": [
    {
     "name": "stdout",
     "output_type": "stream",
     "text": [
      "1033\n"
     ]
    }
   ],
   "source": [
    "for jmp in jmps:\n",
    "    test = copy.deepcopy(cmds)\n",
    "    test[jmp].update({'ins': 'nop'})\n",
    "    idx = 0\n",
    "    acc_total = 0\n",
    "    while idx < len(test):\n",
    "        t = test[idx]\n",
    "        if t['run'] == True:\n",
    "            break\n",
    "        test[idx]['run'] = True\n",
    "        if t['ins'] == 'acc':\n",
    "            acc_total += t['arg']\n",
    "        if t['ins'] == 'jmp':\n",
    "            idx += t['arg']\n",
    "        if t['ins'] != 'jmp':\n",
    "            idx += 1\n",
    "    if idx == len(test):\n",
    "        print(acc_total)"
   ]
  },
  {
   "cell_type": "code",
   "execution_count": null,
   "metadata": {},
   "outputs": [],
   "source": []
  }
 ],
 "metadata": {
  "kernelspec": {
   "display_name": "Python 3",
   "language": "python",
   "name": "python3"
  },
  "language_info": {
   "codemirror_mode": {
    "name": "ipython",
    "version": 3
   },
   "file_extension": ".py",
   "mimetype": "text/x-python",
   "name": "python",
   "nbconvert_exporter": "python",
   "pygments_lexer": "ipython3",
   "version": "3.6.9"
  }
 },
 "nbformat": 4,
 "nbformat_minor": 4
}
