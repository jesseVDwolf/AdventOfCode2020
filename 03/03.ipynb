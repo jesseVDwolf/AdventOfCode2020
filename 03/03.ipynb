{
 "cells": [
  {
   "cell_type": "code",
   "execution_count": 13,
   "metadata": {},
   "outputs": [],
   "source": [
    "import requests"
   ]
  },
  {
   "cell_type": "code",
   "execution_count": 14,
   "metadata": {},
   "outputs": [],
   "source": [
    "session = '_ga=GA1.2.2112432075.1606990680; _gid=GA1.2.232794374.1606990680; session=53616c7465645f5f4524f0ab33c7016a34efa0b21a2c30b7196c94216a2fe5183551163cb0193fb1a1e1c22b25328521'"
   ]
  },
  {
   "cell_type": "code",
   "execution_count": 15,
   "metadata": {},
   "outputs": [],
   "source": [
    "resp = requests.request(method=\"GET\", url='https://adventofcode.com/2020/day/3/input', headers={'Cookie': session})"
   ]
  },
  {
   "cell_type": "code",
   "execution_count": 16,
   "metadata": {},
   "outputs": [],
   "source": [
    "s = resp.text"
   ]
  },
  {
   "cell_type": "code",
   "execution_count": 44,
   "metadata": {},
   "outputs": [],
   "source": [
    "lines = [line for line in s.split('\\n') if line != '']"
   ]
  },
  {
   "cell_type": "code",
   "execution_count": 45,
   "metadata": {},
   "outputs": [],
   "source": [
    "# part one\n",
    "right = 0\n",
    "tree_count = 0\n",
    "for line_number, line in enumerate(lines):\n",
    "    idx = right % 31\n",
    "    right += 3\n",
    "    if line_number > 0:\n",
    "        if line[idx] == '#':\n",
    "            tree_count += 1"
   ]
  },
  {
   "cell_type": "code",
   "execution_count": 51,
   "metadata": {},
   "outputs": [
    {
     "data": {
      "text/plain": [
       "1718180100"
      ]
     },
     "execution_count": 51,
     "metadata": {},
     "output_type": "execute_result"
    }
   ],
   "source": [
    "# part two\n",
    "def get_tree_count(lines: list, right: int, down: int) -> int:\n",
    "    current = 0\n",
    "    tree_count = 0\n",
    "    for line_number, line in enumerate(lines):\n",
    "        if line_number % down > 0:\n",
    "            continue\n",
    "        idx = current % 31\n",
    "        current += right\n",
    "        if line_number > 0:\n",
    "            if line[idx] == '#':\n",
    "                tree_count += 1\n",
    "    return tree_count\n",
    "\n",
    "get_tree_count(lines, 1, 1) * get_tree_count(lines, 3, 1) * get_tree_count(lines, 5, 1) * get_tree_count(lines, 7, 1) * get_tree_count(lines, 1, 2)"
   ]
  },
  {
   "cell_type": "code",
   "execution_count": null,
   "metadata": {},
   "outputs": [],
   "source": []
  }
 ],
 "metadata": {
  "kernelspec": {
   "display_name": "Python 3",
   "language": "python",
   "name": "python3"
  },
  "language_info": {
   "codemirror_mode": {
    "name": "ipython",
    "version": 3
   },
   "file_extension": ".py",
   "mimetype": "text/x-python",
   "name": "python",
   "nbconvert_exporter": "python",
   "pygments_lexer": "ipython3",
   "version": "3.9.0"
  }
 },
 "nbformat": 4,
 "nbformat_minor": 4
}
