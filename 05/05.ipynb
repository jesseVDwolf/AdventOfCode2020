{
 "cells": [
  {
   "cell_type": "code",
   "execution_count": 1,
   "metadata": {},
   "outputs": [],
   "source": [
    "import requests"
   ]
  },
  {
   "cell_type": "code",
   "execution_count": 2,
   "metadata": {},
   "outputs": [],
   "source": [
    "session = 'xxxx'"
   ]
  },
  {
   "cell_type": "code",
   "execution_count": 3,
   "metadata": {},
   "outputs": [],
   "source": [
    "resp = requests.request(method=\"GET\", url='https://adventofcode.com/2020/day/5/input', headers={'Cookie': session})"
   ]
  },
  {
   "cell_type": "code",
   "execution_count": 44,
   "metadata": {},
   "outputs": [],
   "source": [
    "s = resp.text\n",
    "arr = [line for line in s.split('\\n') if line != '']\n",
    "ROWS_ON_PLANE = 128\n",
    "COLUMNS_ON_PLANE = 8"
   ]
  },
  {
   "cell_type": "code",
   "execution_count": 45,
   "metadata": {},
   "outputs": [],
   "source": [
    "def find_row(s: str) -> int:\n",
    "    row_min = 0\n",
    "    row_max = ROWS_ON_PLANE - 1\n",
    "    # find row\n",
    "    for char in s:\n",
    "        diff = row_max - row_min\n",
    "        if char == 'F':\n",
    "            row_max -= int(diff / 2)\n",
    "            if diff % 2 != 0:\n",
    "                row_max -= 1\n",
    "        if char == 'B':\n",
    "            row_min += int((diff / 2))\n",
    "            if diff % 2 != 0:\n",
    "                row_min += 1\n",
    "        #print(f'char: {char} diff: {diff} row_min: {row_min} row_max: {row_max}')\n",
    "    return (row_min if (row_min == row_max) else -1)"
   ]
  },
  {
   "cell_type": "code",
   "execution_count": 46,
   "metadata": {},
   "outputs": [],
   "source": [
    "def find_column(s: str) -> int:\n",
    "    col_min = 0\n",
    "    col_max = COLUMNS_ON_PLANE - 1\n",
    "    for char in s:\n",
    "        diff = col_max - col_min\n",
    "        if char == 'L':\n",
    "            col_max -= int(diff / 2)\n",
    "            if diff % 2 != 0:\n",
    "                col_max -= 1\n",
    "        if char == 'R':\n",
    "            col_min += int((diff / 2))\n",
    "            if diff % 2 != 0:\n",
    "                col_min += 1\n",
    "        #print(f'char: {char} diff: {diff} row_min: {col_min} row_max: {col_max}')\n",
    "    return (col_min if (col_min == col_max) else -1)"
   ]
  },
  {
   "cell_type": "code",
   "execution_count": 50,
   "metadata": {},
   "outputs": [
    {
     "data": {
      "text/plain": [
       "894"
      ]
     },
     "execution_count": 50,
     "metadata": {},
     "output_type": "execute_result"
    }
   ],
   "source": [
    "max([(find_row(s[:7]) * 8 + find_column(s[7:])) for s in arr])"
   ]
  },
  {
   "cell_type": "code",
   "execution_count": 66,
   "metadata": {},
   "outputs": [
    {
     "name": "stdout",
     "output_type": "stream",
     "text": [
      "578 580\n"
     ]
    }
   ],
   "source": [
    "# part two\n",
    "ids = [(find_row(s[:7]) * 8 + find_column(s[7:])) for s in arr]\n",
    "ids.sort()\n",
    "for x, y in zip(ids, ids[1:]):\n",
    "    if y - x != 1:\n",
    "        print(x, y)"
   ]
  }
 ],
 "metadata": {
  "kernelspec": {
   "display_name": "Python 3",
   "language": "python",
   "name": "python3"
  },
  "language_info": {
   "codemirror_mode": {
    "name": "ipython",
    "version": 3
   },
   "file_extension": ".py",
   "mimetype": "text/x-python",
   "name": "python",
   "nbconvert_exporter": "python",
   "pygments_lexer": "ipython3",
   "version": "3.6.9"
  }
 },
 "nbformat": 4,
 "nbformat_minor": 4
}
