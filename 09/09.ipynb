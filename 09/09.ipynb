{
 "cells": [
  {
   "cell_type": "code",
   "execution_count": 5,
   "metadata": {},
   "outputs": [],
   "source": [
    "import requests"
   ]
  },
  {
   "cell_type": "code",
   "execution_count": 6,
   "metadata": {},
   "outputs": [],
   "source": [
    "session = 'xxxx'"
   ]
  },
  {
   "cell_type": "code",
   "execution_count": 9,
   "metadata": {},
   "outputs": [],
   "source": [
    "resp = requests.request(method=\"GET\", url='https://adventofcode.com/2020/day/9/input', headers={'Cookie': session})"
   ]
  },
  {
   "cell_type": "code",
   "execution_count": 39,
   "metadata": {},
   "outputs": [],
   "source": [
    "s = resp.text\n",
    "arr = [int(line) for line in s.split('\\n') if line != '']"
   ]
  },
  {
   "cell_type": "code",
   "execution_count": 40,
   "metadata": {},
   "outputs": [],
   "source": [
    "\"\"\" PART 1\n",
    "\"\"\"\n",
    "preamble = 25\n",
    "for idx, val in enumerate(arr):\n",
    "    if idx >= preamble:\n",
    "        found = False\n",
    "        for i, one in enumerate(arr[idx-preamble:idx]):\n",
    "            for j, two in enumerate(arr[idx-preamble:idx]):\n",
    "                if i != j:\n",
    "                    if (one + two) == val:\n",
    "                        found = True\n",
    "        if not found:\n",
    "            num = val\n",
    "            break"
   ]
  },
  {
   "cell_type": "code",
   "execution_count": 45,
   "metadata": {},
   "outputs": [
    {
     "data": {
      "text/plain": [
       "731031916"
      ]
     },
     "execution_count": 45,
     "metadata": {},
     "output_type": "execute_result"
    }
   ],
   "source": [
    "num"
   ]
  },
  {
   "cell_type": "code",
   "execution_count": 43,
   "metadata": {},
   "outputs": [],
   "source": [
    "\"\"\" PART 2\n",
    "\"\"\"\n",
    "for idx, val in enumerate(arr):\n",
    "    found = False\n",
    "    for i, one in enumerate(arr[idx:]):\n",
    "        potential = sum(arr[idx:idx+i])\n",
    "        if potential == num:\n",
    "            found = True\n",
    "            break\n",
    "        if potential > num:\n",
    "            break\n",
    "    if found:\n",
    "        weakness = min(arr[idx:idx+i]) + max(arr[idx:idx+i])\n",
    "        break"
   ]
  },
  {
   "cell_type": "code",
   "execution_count": 44,
   "metadata": {},
   "outputs": [
    {
     "data": {
      "text/plain": [
       "93396727"
      ]
     },
     "execution_count": 44,
     "metadata": {},
     "output_type": "execute_result"
    }
   ],
   "source": [
    "weakness"
   ]
  },
  {
   "cell_type": "code",
   "execution_count": null,
   "metadata": {},
   "outputs": [],
   "source": []
  }
 ],
 "metadata": {
  "kernelspec": {
   "display_name": "Python 3",
   "language": "python",
   "name": "python3"
  },
  "language_info": {
   "codemirror_mode": {
    "name": "ipython",
    "version": 3
   },
   "file_extension": ".py",
   "mimetype": "text/x-python",
   "name": "python",
   "nbconvert_exporter": "python",
   "pygments_lexer": "ipython3",
   "version": "3.6.9"
  }
 },
 "nbformat": 4,
 "nbformat_minor": 4
}
