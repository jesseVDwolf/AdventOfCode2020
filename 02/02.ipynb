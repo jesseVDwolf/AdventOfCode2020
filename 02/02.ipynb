{
 "cells": [
  {
   "cell_type": "code",
   "execution_count": 1,
   "metadata": {},
   "outputs": [],
   "source": [
    "import requests"
   ]
  },
  {
   "cell_type": "code",
   "execution_count": 3,
   "metadata": {},
   "outputs": [],
   "source": [
    "session = 'session=53616c7465645f5ff5d9f07d39a225d84ed191f55da11bcce8905dd8198c72323dc6cac0c19f1084d773f138e225c660'"
   ]
  },
  {
   "cell_type": "code",
   "execution_count": 4,
   "metadata": {},
   "outputs": [],
   "source": [
    "resp = requests.request(method=\"GET\", url='https://adventofcode.com/2020/day/2/input', headers={'Cookie': session})"
   ]
  },
  {
   "cell_type": "code",
   "execution_count": 81,
   "metadata": {},
   "outputs": [],
   "source": [
    "s = resp.text\n",
    "arr = [line for line in s.split('\\n') if line != '']"
   ]
  },
  {
   "cell_type": "code",
   "execution_count": 51,
   "metadata": {},
   "outputs": [],
   "source": [
    "# part one\n",
    "correct_pwd_count = 0\n",
    "for line in arr:\n",
    "    bottum = int(line[0:line.find('-')])\n",
    "    top = int(line[line.find('-') + 1:line.find(' ')])\n",
    "    char = line[line.find(' ') + 1:line.find(':')]\n",
    "    pwd = line[line.find(':') + 2:len(line)]\n",
    "    #print(f'line: {line} bottum: {bottum} top: {top} char: {char} pwd: {pwd} count: {pwd.count(char)}')\n",
    "    if bottum <= pwd.count(char) and top >= pwd.count(char):\n",
    "        correct_pwd_count += 1"
   ]
  },
  {
   "cell_type": "code",
   "execution_count": 82,
   "metadata": {},
   "outputs": [],
   "source": [
    "# part two\n",
    "correct_pwd_count = 0\n",
    "for line in arr:\n",
    "    first = int(line[0:line.find('-')])\n",
    "    second = int(line[line.find('-') + 1:line.find(' ')])\n",
    "    char = line[line.find(' ') + 1:line.find(':')]\n",
    "    pwd = line[line.find(':') + 2:len(line)]\n",
    "    if (pwd[first -1] != char and pwd[second -1] == char) or (pwd[first -1] == char and pwd[second -1] != char):\n",
    "        #print(f'line: {line} first: {first} second: {second} char: {char} pwd: {pwd} fchar: {pwd[first -1]} schar: {pwd[second -1]}')\n",
    "        correct_pwd_count += 1"
   ]
  },
  {
   "cell_type": "code",
   "execution_count": 73,
   "metadata": {},
   "outputs": [],
   "source": [
    "s = '13-14 w: lwgwrwczwwhkww'"
   ]
  },
  {
   "cell_type": "code",
   "execution_count": 74,
   "metadata": {},
   "outputs": [],
   "source": [
    "first = int(s[0:s.find('-')])"
   ]
  },
  {
   "cell_type": "code",
   "execution_count": 75,
   "metadata": {},
   "outputs": [],
   "source": [
    "second = int(s[s.find('-') + 1:s.find(' ')])"
   ]
  },
  {
   "cell_type": "code",
   "execution_count": 76,
   "metadata": {},
   "outputs": [],
   "source": [
    "char = s[s.find(' ') + 1:s.find(':')]"
   ]
  },
  {
   "cell_type": "code",
   "execution_count": 77,
   "metadata": {},
   "outputs": [],
   "source": [
    "pwd = s[s.find(':') + 2:len(s)]"
   ]
  },
  {
   "cell_type": "code",
   "execution_count": 78,
   "metadata": {},
   "outputs": [
    {
     "data": {
      "text/plain": [
       "13"
      ]
     },
     "execution_count": 78,
     "metadata": {},
     "output_type": "execute_result"
    }
   ],
   "source": [
    "first"
   ]
  },
  {
   "cell_type": "code",
   "execution_count": 83,
   "metadata": {},
   "outputs": [
    {
     "data": {
      "text/plain": [
       "325"
      ]
     },
     "execution_count": 83,
     "metadata": {},
     "output_type": "execute_result"
    }
   ],
   "source": [
    "correct_pwd_count"
   ]
  },
  {
   "cell_type": "code",
   "execution_count": 41,
   "metadata": {},
   "outputs": [
    {
     "data": {
      "text/plain": [
       "['3-5 f: fgfff',\n",
       " '6-20 n: qlzsnnnndwnlhwnxhvjn',\n",
       " '6-7 j: jjjjjwrj',\n",
       " '8-10 g: gggggggggg',\n",
       " '5-6 t: ttttttft',\n",
       " '6-11 h: khmchszhmzm',\n",
       " '4-6 q: qqbjqqqj',\n",
       " '6-8 j: gtkwwjjj',\n",
       " '13-14 w: lwgwrwczwwhkww',\n",
       " '2-4 p: vcnptzdppvpdzp']"
      ]
     },
     "execution_count": 41,
     "metadata": {},
     "output_type": "execute_result"
    }
   ],
   "source": [
    "arr"
   ]
  },
  {
   "cell_type": "code",
   "execution_count": null,
   "metadata": {},
   "outputs": [],
   "source": []
  }
 ],
 "metadata": {
  "kernelspec": {
   "display_name": "Python 3",
   "language": "python",
   "name": "python3"
  },
  "language_info": {
   "codemirror_mode": {
    "name": "ipython",
    "version": 3
   },
   "file_extension": ".py",
   "mimetype": "text/x-python",
   "name": "python",
   "nbconvert_exporter": "python",
   "pygments_lexer": "ipython3",
   "version": "3.6.9"
  }
 },
 "nbformat": 4,
 "nbformat_minor": 4
}
