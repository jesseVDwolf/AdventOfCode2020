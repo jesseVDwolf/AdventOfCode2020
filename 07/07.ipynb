{
 "cells": [
  {
   "cell_type": "code",
   "execution_count": 1,
   "metadata": {},
   "outputs": [],
   "source": [
    "import requests"
   ]
  },
  {
   "cell_type": "code",
   "execution_count": 2,
   "metadata": {},
   "outputs": [],
   "source": [
    "session = 'xxxx'"
   ]
  },
  {
   "cell_type": "code",
   "execution_count": 3,
   "metadata": {},
   "outputs": [],
   "source": [
    "resp = requests.request(method=\"GET\", url='https://adventofcode.com/2020/day/7/input', headers={'Cookie': session})"
   ]
  },
  {
   "cell_type": "code",
   "execution_count": 82,
   "metadata": {},
   "outputs": [],
   "source": [
    "s = resp.text\n",
    "arr = [line for line in s.split('\\n') if line != '']"
   ]
  },
  {
   "cell_type": "code",
   "execution_count": 83,
   "metadata": {},
   "outputs": [],
   "source": [
    "bags = []\n",
    "for rule in arr:\n",
    "    bag = rule[:rule.find(\"contain\") - 6]\n",
    "    bag_contains = []\n",
    "    get_bags_recurse(bag_contains, rule[rule.find(\"contain\") + 8:])\n",
    "    bags.append({'bag': bag, 'contains': bag_contains})"
   ]
  },
  {
   "cell_type": "code",
   "execution_count": 84,
   "metadata": {},
   "outputs": [],
   "source": [
    "# part one\n",
    "def get_bags_recurse(bags: list, s: str):\n",
    "    if s == 'no other bags.':\n",
    "        return\n",
    "    amount = int(s[:s.find(' ')])\n",
    "    if s.find(',') == -1:\n",
    "        bag = s[s.find(' ') + 1:s.find('.') - (5 if amount > 1 else 4)]\n",
    "        bags.append({'bag': bag, 'amount': amount})\n",
    "        return\n",
    "    bag = s[s.find(' ') + 1:s.find(',') - (5 if amount > 1 else 4)]\n",
    "    bags.append({'bag': bag, 'amount': amount})\n",
    "    get_bags_recurse(bags, s[s.find(',') + 2:])\n",
    "\n",
    "def has_shiny_recurse(bags: list, inner_bag: str) -> bool:\n",
    "    for bag in bags:\n",
    "        if bag['bag'] == inner_bag:\n",
    "            if not bag['contains']:\n",
    "                return False\n",
    "            for b in bag['contains']:\n",
    "                if b['bag'] == 'shiny gold' or has_shiny_recurse(bags, b['bag']):\n",
    "                    return True\n",
    "    return False\n",
    "    \n",
    "bags = []\n",
    "for rule in arr:\n",
    "    bag = rule[:rule.find(\"contain\") - 6]\n",
    "    bag_contains = []\n",
    "    get_bags_recurse(bag_contains, rule[rule.find(\"contain\") + 8:])\n",
    "    bags.append({'bag': bag, 'contains': bag_contains})\n",
    "\n",
    "bags_with_shiny = []\n",
    "for bag in bags:\n",
    "    for b in bag['contains']:\n",
    "        if b['bag'] == 'shiny gold' or has_shiny_recurse(bags, b['bag']):\n",
    "            bags_with_shiny.append(bag['bag'])\n",
    "            break\n",
    "            "
   ]
  },
  {
   "cell_type": "code",
   "execution_count": 85,
   "metadata": {},
   "outputs": [
    {
     "data": {
      "text/plain": [
       "197"
      ]
     },
     "execution_count": 85,
     "metadata": {},
     "output_type": "execute_result"
    }
   ],
   "source": [
    "len(bags_with_shiny)"
   ]
  },
  {
   "cell_type": "code",
   "execution_count": 136,
   "metadata": {},
   "outputs": [],
   "source": [
    "# part two\n",
    "def get_bags_recurse(bags: list, s: str):\n",
    "    if s == 'no other bags.':\n",
    "        return\n",
    "    amount = int(s[:s.find(' ')])\n",
    "    if s.find(',') == -1:\n",
    "        bag = s[s.find(' ') + 1:s.find('.') - (5 if amount > 1 else 4)]\n",
    "        bags.append({'bag': bag, 'amount': amount})\n",
    "        return\n",
    "    bag = s[s.find(' ') + 1:s.find(',') - (5 if amount > 1 else 4)]\n",
    "    bags.append({'bag': bag, 'amount': amount})\n",
    "    get_bags_recurse(bags, s[s.find(',') + 2:])\n",
    "    \n",
    "def count_bag_recurse(bags: list, inner_bag: str) -> int:\n",
    "    total_bags = 0\n",
    "    for bag in bags:\n",
    "        if bag['bag'] == inner_bag:\n",
    "            if not bag['contains']:\n",
    "                return 1\n",
    "            for b in bag['contains']:\n",
    "                total_bags += (b['amount'] * count_bag_recurse(bags, b['bag']))\n",
    "            total_bags += 1\n",
    "    return total_bags\n",
    "\n",
    "bags = []\n",
    "for rule in arr:\n",
    "    bag = rule[:rule.find(\"contain\") - 6]\n",
    "    bag_contains = []\n",
    "    get_bags_recurse(bag_contains, rule[rule.find(\"contain\") + 8:])\n",
    "    bags.append({'bag': bag, 'contains': bag_contains})\n",
    "\n",
    "total_bags = 0\n",
    "for bag in bags:\n",
    "    if bag['bag'] == 'shiny gold':\n",
    "        for b in bag['contains']:\n",
    "            total_bags += (b['amount'] * count_bag_recurse(bags, b['bag']))\n",
    "        break"
   ]
  },
  {
   "cell_type": "code",
   "execution_count": 137,
   "metadata": {},
   "outputs": [
    {
     "data": {
      "text/plain": [
       "85324"
      ]
     },
     "execution_count": 137,
     "metadata": {},
     "output_type": "execute_result"
    }
   ],
   "source": [
    "total_bags"
   ]
  },
  {
   "cell_type": "code",
   "execution_count": null,
   "metadata": {},
   "outputs": [],
   "source": []
  }
 ],
 "metadata": {
  "kernelspec": {
   "display_name": "Python 3",
   "language": "python",
   "name": "python3"
  },
  "language_info": {
   "codemirror_mode": {
    "name": "ipython",
    "version": 3
   },
   "file_extension": ".py",
   "mimetype": "text/x-python",
   "name": "python",
   "nbconvert_exporter": "python",
   "pygments_lexer": "ipython3",
   "version": "3.6.9"
  }
 },
 "nbformat": 4,
 "nbformat_minor": 4
}
